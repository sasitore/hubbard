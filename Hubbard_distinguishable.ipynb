{
 "cells": [
  {
   "cell_type": "code",
   "execution_count": 1,
   "id": "7eda9b44-6b11-4273-b3a1-45448f512017",
   "metadata": {},
   "outputs": [
    {
     "name": "stderr",
     "output_type": "stream",
     "text": [
      "Warning: Ignoring XDG_SESSION_TYPE=wayland on Gnome. Use QT_QPA_PLATFORM=wayland to run on Wayland anyway.\n"
     ]
    }
   ],
   "source": [
    "%matplotlib qt\n",
    "import numpy as np\n",
    "import matplotlib.pyplot as plt\n",
    "from IPython.display import Image\n",
    "from qutip import (Qobj, about, basis, coherent, coherent_dm, create, destroy,\n",
    "                   expect, fock, fock_dm, mesolve, qeye, sigmax, sigmay,\n",
    "                   sigmaz, tensor, thermal_dm, ket2dm, ptrace, qdiags)\n",
    "import qutip\n",
    "import time\n",
    "from scipy import fft\n",
    "import itertools\n",
    "from itertools import permutations\n",
    "from types import SimpleNamespace\n",
    "from latticefunctions import (purity, purity_rho1, von_neumann_entropy, von_neumann_entropy_rho1, minmax_eigvals, eigenstates0, \n",
    "                                multipart_tensor, var_op, result_dict, permute_particles, simulate, plots, secondary_observables)\n",
    "\n",
    "smesolve = qutip.stochastic.smesolve\n",
    "ssesolve = qutip.stochastic.ssesolve"
   ]
  },
  {
   "cell_type": "code",
   "execution_count": 2,
   "id": "183323ff-75f5-459f-931f-a6a0a16ca42c",
   "metadata": {},
   "outputs": [],
   "source": [
    "#System parameters\n",
    "L = 7                   #Number of sites\n",
    "eigs = eigenstates0(L)  #eigenstates for 0 potential case\n",
    "ct = int(L/2)           #central site\n",
    "periodic_boundary = False\n",
    "\n",
    "#Time\n",
    "T = 100\n",
    "N_times = T*80\n",
    "\n",
    "#Hamiltonian parameters\n",
    "J = 1           #tunneling rate\n",
    "U0 = 0          #1-particle potential\n",
    "V0 = 2          #2-particle potential\n",
    "U_site = ct    #site of the 1-particle potential (U)\n",
    "\n",
    "#Measurement parameters\n",
    "gamma = 0         #Decoherence rate\n",
    "gamma_m = 0.4     #Measurement strength\n",
    "probed_n = ct     #Probed site\n",
    "meas_start = 0\n",
    "meas_stop = None\n",
    "\n",
    "#Iterations\n",
    "N_traj = 100\n",
    "N_runs = 1     #Number of simulation runs"
   ]
  },
  {
   "cell_type": "code",
   "execution_count": 3,
   "id": "d7d1c0ee-909e-45a9-ae37-0116e014ea17",
   "metadata": {},
   "outputs": [],
   "source": [
    "# Eigenstates combination for generic N-particle state\n",
    "def eig_st(*indices):\n",
    "    return tensor(*[eigs[i] for i in indices])\n",
    "\n",
    "# Site basis combination for generic N-particle Fock state\n",
    "def site_st(*indices):\n",
    "    return tensor(*[fock(L, i) for i in indices])"
   ]
  },
  {
   "cell_type": "code",
   "execution_count": 4,
   "id": "62d1e2f6-7f98-4ce6-a058-8dcb230240d8",
   "metadata": {},
   "outputs": [],
   "source": [
    "#Initial state (can be both a state vector or a density operator; can be given as combination of Fock states or energy eigenstates)\n",
    "rho0 = eig_st(0,6)\n",
    "rho0 = rho0/rho0.norm()"
   ]
  },
  {
   "cell_type": "code",
   "execution_count": 5,
   "id": "bb71964f-87e9-4a65-80ca-309b356bc387",
   "metadata": {},
   "outputs": [],
   "source": [
    "#Number of particles\n",
    "N = len(rho0.dims[0])\n",
    "\n",
    "#Time list\n",
    "tlist = np.linspace(0,T,N_times)\n",
    "\n",
    "#HAMILTONIAN\n",
    "#Transition operators for the two atoms, +/- 1 position\n",
    "tp_ops = [fock(L,i+1)*fock(L,i).dag() for i in range(L-1)]\n",
    "if periodic_boundary==True:\n",
    "    tp_ops += [fock(L,0)*fock(L,L-1).dag()]\n",
    "\n",
    "tp = multipart_tensor(sum(tp_ops), L, N)\n",
    "tm = tp.dag()\n",
    "K = -J*(tp+tm)      #Kinetic part for the two atoms\n",
    "\n",
    "\n",
    "#On-site 1-particle potential\n",
    "U = U0*multipart_tensor(fock_dm(L,U_site), L, N)\n",
    "\n",
    "#Repulsive 2-particle potential\n",
    "V_sites = [V0*multipart_tensor(fock_dm(L,i), L, N, order=2) for i in range(L)]\n",
    "V = sum(V_sites)\n",
    "\n",
    "H = K+U+V"
   ]
  },
  {
   "cell_type": "code",
   "execution_count": 6,
   "id": "db162e11-a686-4adf-9bf0-5a05b2a35a40",
   "metadata": {},
   "outputs": [],
   "source": [
    "#Some useful operators\n",
    "#Occupation of the probed site\n",
    "def site_occ(l):\n",
    "    return multipart_tensor(fock_dm(L,l), L, N)\n",
    "occ_probed = site_occ(probed_n)\n",
    "\n",
    "\n",
    "def parity_op(L, N, n):\n",
    "    ops = [qeye(L)]*N\n",
    "    parity = sum([fock(L,i)*fock(L,(L-1)-i).dag() for i in range(L)])\n",
    "    ops[n-1] = parity\n",
    "    return tensor(*ops)\n",
    "\n",
    "def antiparity(L,N):\n",
    "    parity = sum([1j*(fock(L,ct-i)*fock(L,ct+i).dag() - fock(L,ct+i)*fock(L,ct-i).dag()) for i in range(int(L/2))])\n",
    "    return multipart_tensor(parity, L, N)\n",
    "\n",
    "\n",
    "#Permutation operators\n",
    "def perm_op(*idx):\n",
    "    l=L\n",
    "    return permute_particles(l, *idx)\n",
    "\n",
    "perm = permutations(range(N))\n",
    "if N==3:\n",
    "    boson_sub = (1/6)*sum([perm_op(i) for i in perm])\n",
    "    fermion_sub = (1/6)*(perm_op(1,2,3) + perm_op(2,3,1) + perm_op(3,1,2) - perm_op(3,2,1) - perm_op(2,1,3) - perm_op(1,3,2))\n",
    "    immanon_sub = (1/3)*(2*perm_op(1,2,3) - perm_op(2,3,1) - perm_op(3,1,2))\n",
    "\n",
    "\n",
    "\n",
    "#Current operator from site m to n\n",
    "def j_mn(m, n):\n",
    "    return multipart_tensor(1j*J*(fock(L,m)*fock(L,n).dag() - fock(L,n)*fock(L,m).dag()), L, N)\n",
    "#Current away from site\n",
    "def j_m(m):\n",
    "    return j_mn(m,m+1) + j_mn(m,m-1)\n",
    "    \n",
    "#Current away from the center\n",
    "j_c = j_m(ct)"
   ]
  },
  {
   "cell_type": "code",
   "execution_count": 7,
   "id": "c46d4856-d893-4631-916d-6e2a78577681",
   "metadata": {},
   "outputs": [],
   "source": [
    "#Dissipation\n",
    "c_opss = [np.sqrt(gamma)*occ_probed]\n",
    "#c_opss = [np.sqrt(gamma)*site_occ(i) for i in range(L)]\n",
    "\n",
    "#Probing\n",
    "sc_ops = [np.sqrt(gamma_m)*occ_probed]\n",
    "#sc_ops = [np.sqrt(gamma_m)*multipart_tensor(fock_dm(L,ct), L, N, order=2)]\n",
    "#sc_ops = [np.sqrt(gamma_m)*antiparity(L,N)]\n",
    "\n",
    "#Measurement window\n",
    "if meas_stop==None:\n",
    "    meas_stop = tlist[-1]\n",
    "meas_coeffs = np.array([1.0 if meas_start<t<=meas_stop else 0.0 for t in tlist])\n",
    "\n",
    "#Applies the measurement coefficients to each sc_opss\n",
    "sc_opss = [[op, meas_coeffs] for op in sc_ops]"
   ]
  },
  {
   "cell_type": "code",
   "execution_count": 8,
   "id": "c59d3504-cb02-42a2-aa72-f3d87b9d37ae",
   "metadata": {},
   "outputs": [],
   "source": [
    "def build_eops(L, N, eigs):\n",
    "    e_ops = []\n",
    "    keys = {}\n",
    "\n",
    "    id_op = [qeye(L)]*N\n",
    "    \n",
    "    #Site occupations\n",
    "    for which in range(1,N+1):\n",
    "        for i in range(L):\n",
    "            keys.setdefault(f\"P_fock{which}\", []).append(len(e_ops))    #Creates list of site occupations for each particle\n",
    "            op = list(id_op)\n",
    "            op[which-1] = fock_dm(L,i)\n",
    "            e_ops.append(tensor(*op))\n",
    "\n",
    "    #Eigenstates\n",
    "    for which in range(1,N+1):\n",
    "        for i in range(L):\n",
    "            keys.setdefault(f\"P_eig{which}\", []).append(len(e_ops))\n",
    "            op = list(id_op)\n",
    "            op[which-1] = eigs[i] * eigs[i].dag()\n",
    "            e_ops.append(tensor(*op))\n",
    "\n",
    "    #Parity operator\n",
    "    for n in range(1,N+1):\n",
    "        keys[f\"Parity_op{n}\"] = len(e_ops); e_ops.append(parity_op(L,N,n))\n",
    "    \n",
    "    keys[\"occ_probed\"] = len(e_ops); e_ops.append(occ_probed)\n",
    "    keys[\"entropy\"] = len(e_ops); e_ops.append(von_neumann_entropy)\n",
    "    keys[\"entropy_rho1\"] = len(e_ops); e_ops.append(von_neumann_entropy_rho1)\n",
    "    keys[\"ct_current\"] = len(e_ops); e_ops.append(j_c)\n",
    "    keys[\"ct_current_var\"] = len(e_ops); e_ops.append(var_op(j_c))\n",
    "    if N==2:\n",
    "        keys[\"p_exc\"] = len(e_ops); e_ops.append(perm_op(2,1))\n",
    "    if N==3:\n",
    "        keys[\"immanon_sub\"] = len(e_ops); e_ops.append(immanon_sub)\n",
    "        keys[\"boson_sub\"] = len(e_ops); e_ops.append(boson_sub)\n",
    "        keys[\"fermion_sub\"] = len(e_ops); e_ops.append(fermion_sub)\n",
    "        \n",
    "    return e_ops, keys"
   ]
  },
  {
   "cell_type": "code",
   "execution_count": 9,
   "id": "6e59eacd-9fcf-48bd-9904-b51d9e5e2fcb",
   "metadata": {},
   "outputs": [],
   "source": [
    "e_opss, keys = build_eops(L, N, eigs)"
   ]
  },
  {
   "cell_type": "code",
   "execution_count": 10,
   "id": "5116c0a5-6711-4e2c-af12-288dea2d3c80",
   "metadata": {},
   "outputs": [],
   "source": [
    "#print(e_opss[0].dims, c_opss[0].dims, rho0.dims, H.dims)"
   ]
  },
  {
   "cell_type": "code",
   "execution_count": 11,
   "id": "b3256d21-d711-43cf-bcf4-3c60138889ba",
   "metadata": {},
   "outputs": [
    {
     "name": "stdout",
     "output_type": "stream",
     "text": [
      "10.0%. Run time:  45.88s. Est. time left: 00:00:06:52\n",
      "20.0%. Run time:  98.44s. Est. time left: 00:00:06:33\n",
      "30.0%. Run time: 151.52s. Est. time left: 00:00:05:53\n",
      "40.0%. Run time: 205.16s. Est. time left: 00:00:05:07\n",
      "50.0%. Run time: 258.97s. Est. time left: 00:00:04:18\n",
      "60.0%. Run time: 312.82s. Est. time left: 00:00:03:28\n",
      "70.0%. Run time: 366.72s. Est. time left: 00:00:02:37\n",
      "80.0%. Run time: 421.46s. Est. time left: 00:00:01:45\n",
      "90.0%. Run time: 475.61s. Est. time left: 00:00:00:52\n",
      "100.0%. Run time: 529.66s. Est. time left: 00:00:00:00\n",
      "Total run time: 535.11s\n"
     ]
    }
   ],
   "source": [
    "for i in range(N_runs):\n",
    "    #Seed for consistency. If set as None, it takes by default int(time.time()*10)\n",
    "    seed = None\n",
    "    \n",
    "    #Simulation with mesolve/smesolve/ssesolve depending on gamma and gamma_m\n",
    "    result = simulate(H, rho0, tlist, e_opss, c_opss, sc_opss, gamma, gamma_m, N_traj, seed)\n",
    "    \n",
    "    #Making a result as dictionary to avoid calling it as: result.expect[keys[\"P_fock1\"]], but more simply as res[\"P_fock1\"]\n",
    "    res = result_dict(result, keys)\n",
    "\n",
    "    #Adding extra observables that can be derived from the primary ones\n",
    "    res = secondary_observables(res,N,L)\n",
    "    \n",
    "    \"\"\"Plot options: \"position\", \"sites_occupations\", \"eigen_probs\", \"probed_site_particles\", \"probed_site_occ\",\n",
    "\t\t \"energy\", \"parity\", \"parity_op\", \"entropy_tot\", \"entropy_rho1\", \"bosonicness\", \n",
    "\t\t \"symmetries\", \"occ_probed\", \"center_current\", \"center_current_var\"\n",
    "         All of them: \"everything\"\n",
    "    \"\"\"\n",
    "    \n",
    "    plots(tlist, res, N, L, probed_n, draw=[\"parity\", \"eigen_probs\"])"
   ]
  }
 ],
 "metadata": {
  "kernelspec": {
   "display_name": "Python 3 (ipykernel)",
   "language": "python",
   "name": "python3"
  },
  "language_info": {
   "codemirror_mode": {
    "name": "ipython",
    "version": 3
   },
   "file_extension": ".py",
   "mimetype": "text/x-python",
   "name": "python",
   "nbconvert_exporter": "python",
   "pygments_lexer": "ipython3",
   "version": "3.10.12"
  }
 },
 "nbformat": 4,
 "nbformat_minor": 5
}
