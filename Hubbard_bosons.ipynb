{
 "cells": [
  {
   "cell_type": "code",
   "execution_count": 1,
   "id": "96793e7b-beeb-4b10-bcf4-6d1a887b68da",
   "metadata": {},
   "outputs": [
    {
     "name": "stderr",
     "output_type": "stream",
     "text": [
      "Warning: Ignoring XDG_SESSION_TYPE=wayland on Gnome. Use QT_QPA_PLATFORM=wayland to run on Wayland anyway.\n"
     ]
    }
   ],
   "source": [
    "%matplotlib qt\n",
    "import numpy as np\n",
    "import matplotlib.pyplot as plt\n",
    "from IPython.display import Image\n",
    "from qutip import (Qobj, about, basis, coherent, coherent_dm, create, destroy,\n",
    "                   expect, fock, fock_dm, mesolve, qeye, sigmax, sigmay,\n",
    "                   sigmaz, tensor, thermal_dm, anim_matrix_histogram,\n",
    "                   anim_fock_distribution, ket2dm, ptrace)\n",
    "import qutip\n",
    "import itertools\n",
    "\n",
    "from latticefunctions import (purity, purity_rho1, von_neumann_entropy, var_op)\n",
    "\n",
    "\n",
    "#from master_equation import meq_solve\n",
    "smesolve = qutip.stochastic.smesolve\n",
    "ssesolve = qutip.stochastic.ssesolve"
   ]
  },
  {
   "cell_type": "code",
   "execution_count": 2,
   "id": "890a3fd3-d8e4-4fd1-be93-51151e3b1a17",
   "metadata": {},
   "outputs": [],
   "source": [
    "N = 7        #Number of particles\n",
    "L = 7        #Number of sites\n",
    "J = 1\n",
    "V0 = 10\n",
    "periodic_boundary = False\n",
    "\n",
    "center = int(N/2)    #central site\n",
    "\n",
    "probed_sites = [1,2,3]\n",
    "gamma_m = 0*np.ones(len(probed_sites))\n",
    "\n",
    "#Time\n",
    "T = 10\n",
    "N_times = 10"
   ]
  },
  {
   "cell_type": "code",
   "execution_count": 3,
   "id": "982afa07-2121-47ee-92eb-f1a549c5aa04",
   "metadata": {},
   "outputs": [],
   "source": [
    "#Defining the chemical potential; may be useful in separate section if U is a more complicated function than a one-site potential\n",
    "U0 = 0\n",
    "U_site = 2\n",
    "U_vec = np.zeros(L)\n",
    "U_vec[U_site] = U0"
   ]
  },
  {
   "cell_type": "code",
   "execution_count": 4,
   "id": "18ed20b9-a72e-4cb7-b06b-f5325b992219",
   "metadata": {},
   "outputs": [],
   "source": [
    "#Construction and ordering of the states\n",
    "basis = [state for state in itertools.product(range(N+1), repeat=L) if sum(state) == N]      \n",
    "#itertools returns cartesian product (N+1)x(N+1)X... (L times). Then we only take those states with sum of elements equal to N\n",
    "dim = len(basis)     #dimensionality of the Hilbert space"
   ]
  },
  {
   "cell_type": "code",
   "execution_count": 5,
   "id": "bc5ea0a0-fbec-4945-a679-4fdbd00de9e7",
   "metadata": {},
   "outputs": [],
   "source": [
    "#Hamiltonian\n",
    "\n",
    "def basis_index_map(basis):\n",
    "    \"\"\"Return a dictionary mapping basis tuples to their indices.\"\"\"\n",
    "    return {state: i for i, state in enumerate(basis)}\n",
    "index_map = basis_index_map(basis)\n",
    "\n",
    "\n",
    "def kinetic_energy(L, N, J, periodic=False):\n",
    "    K = np.zeros((dim, dim))\n",
    "\n",
    "    for i, state in enumerate(basis):\n",
    "        for n in range(L - 1 + int(periodic)):\n",
    "            site1 = n\n",
    "            site2 = (n + 1) % L     #Next site; we can build the opposite transition just by hermitianity\n",
    "\n",
    "            if state[site1] > 0:\n",
    "                new_state = list(state)\n",
    "                new_state[site1] -= 1    #Removing particle from site 1\n",
    "                new_state[site2] += 1    #Adding particle to site 2\n",
    "                new_state = tuple(new_state)\n",
    "\n",
    "                if new_state in index_map:     #If the new state is among the allowed ones. Necessary in case of restricted Hilbert spaces\n",
    "                    j = index_map[new_state]\n",
    "                    amplitude = -J*np.sqrt(state[site1] * (state[site2] + 1))    #-J*sqrt(n_1*(n_2+1))\n",
    "                    K[i, j] += amplitude\n",
    "                    K[j, i] += amplitude\n",
    "                    \n",
    "    return Qobj(K)\n",
    "\n",
    "def one_particle_potential(U_vec):\n",
    "    U = np.zeros((dim,dim))\n",
    "    for i,state in enumerate(basis):\n",
    "        U[i,i] += sum([state[j]*U_vec[j] for j in range(L)])\n",
    "    return Qobj(U)\n",
    "\n",
    "def two_particles_potential(V0):\n",
    "    V = np.zeros((dim,dim))\n",
    "    for i,state in enumerate(basis):\n",
    "        V[i,i] += sum([(V0/2)*state[j]*(state[j]-1) for j in range(L)])\n",
    "    return Qobj(V)\n",
    "\n",
    "\"\"\"def neighbours(state, periodic=False):\n",
    "    neighbours_vec = np.zeros(dim)\n",
    "    state = tuple(state)\n",
    "    if\n",
    "    neigh_states.append(\"\"\"\n",
    "\n",
    "\n",
    "def particle_move(state, m, n, periodic=False):\n",
    "    if state[m]>0:\n",
    "        new_state = list(state)\n",
    "        new_state[m] -= 1\n",
    "        new_state[n] += 1\n",
    "        new_state = tuple(new_state)\n",
    "        return new_state\n",
    "    else:\n",
    "        return None\n",
    "\n",
    "\n",
    "def current(n):\n",
    "    j_n = np.zeros((dim,dim), dtype='complex')\n",
    "    for i, state in enumerate(basis):\n",
    "        if n!= L-1:\n",
    "            site1 = n\n",
    "            site2 = (n + 1)     #Next site; we can build the opposite transition just with the opposite sign\n",
    "\n",
    "            if state[site1] > 0:\n",
    "                new_state = list(state)\n",
    "                new_state[site1] -= 1    #Removing particle from site 1\n",
    "                new_state[site2] += 1    #Adding particle to site 2\n",
    "                new_state = tuple(new_state)\n",
    "\n",
    "                if new_state in index_map:     #If the new state is among the allowed ones. Necessary in case of restricted Hilbert spaces\n",
    "                    j = index_map[new_state]\n",
    "                    amplitude = -1j*J*np.sqrt(state[site1] * (state[site2] + 1))    #-iJ*sqrt(n_1*(n_2+1))\n",
    "                    j_n[i, j] += amplitude\n",
    "                    j_n[j, i] += -amplitude\n",
    "        if n!= 0:\n",
    "            site1 = n\n",
    "            site2 = (n - 1)     #Next site; we can build the opposite transition just with the opposite sign\n",
    "\n",
    "            if state[site1] > 0:\n",
    "                new_state = list(state)\n",
    "                new_state[site1] -= 1    #Removing particle from site 1\n",
    "                new_state[site2] += 1    #Adding particle to site 2\n",
    "                new_state = tuple(new_state)\n",
    "\n",
    "                if new_state in index_map:     #If the new state is among the allowed ones. Necessary in case of restricted Hilbert spaces\n",
    "                    j = index_map[new_state]\n",
    "                    amplitude = -1j*J*np.sqrt(state[site1] * (state[site2] + 1))    #-iJ*sqrt(n_1*(n_2+1))\n",
    "                    j_n[i, j] += amplitude\n",
    "                    j_n[j, i] += -amplitude\n",
    "                \n",
    "    return Qobj(j_n)\n",
    "    \n",
    "\n",
    "            \n",
    "\n",
    "K = kinetic_energy(L, N, J, periodic=False)\n",
    "U = one_particle_potential(U_vec)\n",
    "V = two_particles_potential(V0)\n",
    "\n",
    "H = K+U+V\n",
    "\n",
    "ct_current = current(center)\n",
    "ct_curr_var = var_op(ct_current)"
   ]
  },
  {
   "cell_type": "code",
   "execution_count": 6,
   "id": "7f0b89f3-b5a0-4bb4-889e-cbec3821e954",
   "metadata": {},
   "outputs": [],
   "source": [
    "#Site correlation function\n",
    "def site_corr_function(m,n):\n",
    "    op = np.zeros((dim, dim), dtype=np.float64)\n",
    "    \n",
    "    for i, state in enumerate(basis):\n",
    "        if state[m]==0:\n",
    "            continue\n",
    "        \n",
    "        new_state = list(state)\n",
    "        new_state[m] -= 1\n",
    "        new_state[n] += 1\n",
    "        new_state = tuple(new_state)\n",
    "\n",
    "        if new_state in index_map:\n",
    "            j = index_map[new_state]\n",
    "            amp = np.sqrt(state[m]) * np.sqrt(state[n] + 1)\n",
    "            op[j, i] = amp\n",
    "    return Qobj(op)"
   ]
  },
  {
   "cell_type": "code",
   "execution_count": 7,
   "id": "e811da7d-cdab-464e-821d-eb811f11343a",
   "metadata": {},
   "outputs": [],
   "source": [
    "dt = T/N_times\n",
    "tlist = np.arange(0,T,dt)\n",
    "\n",
    "sc_opss = np.zeros((dim,dim))\n",
    "for i,state in enumerate(basis):\n",
    "    for j,site in enumerate(probed_sites):\n",
    "        sc_opss[i,i] += np.sqrt(gamma_m[j])*state[site]\n",
    "sc_opss = [Qobj(sc_opss)]\n",
    "\n",
    "c_opss = []\n",
    "\n",
    "e_opss = []\n",
    "for i in range(dim):\n",
    "    e_opss.append(fock_dm(dim,i))\n",
    "\n",
    "for n in range(1,L):\n",
    "    e_opss.append(site_corr_function(0,n))\n",
    "\n",
    "e_opss.append(ct_current)\n",
    "e_opss.append(ct_curr_var)"
   ]
  },
  {
   "cell_type": "code",
   "execution_count": null,
   "id": "b8dffc0b-190f-4507-8a36-e7f4844c714d",
   "metadata": {},
   "outputs": [
    {
     "name": "stdout",
     "output_type": "stream",
     "text": [
      "100.0%. Run time:   0.00s. Est. time left: 00:00:00:00\n"
     ]
    }
   ],
   "source": [
    "#Selecting initial state and retrieving its index\n",
    "idx = index_map[tuple(np.ones(N))]\n",
    "\n",
    "#Initial state\n",
    "rho0 = fock(dim,idx)\n",
    "\n",
    "result = ssesolve(H, rho0, tlist, sc_ops=sc_opss, e_ops=e_opss, ntraj=1)\n",
    "#result = mesolve(H, rho0, tlist, e_ops = e_opss)"
   ]
  },
  {
   "cell_type": "code",
   "execution_count": null,
   "id": "c3dff8f6-21c8-4767-a122-37e220328071",
   "metadata": {},
   "outputs": [],
   "source": [
    "#Extracting data from the result\n",
    "basis_exp = np.array(result.expect[0:dim])\n",
    "occ = np.zeros((L,N_times))     #expected occupation by site\n",
    "tot = np.zeros((L,N_times))     #verifies total number of particles\n",
    "for i,state in enumerate(basis):\n",
    "    for j in range(L):\n",
    "        occ[j] += state[j]*basis_exp[i]\n",
    "tot = sum(occ)\n",
    "Z = sum([occ[i,:]*i for i in range(L)])/N     #center of mass\n",
    "\n",
    "#Average distance between particles\n",
    "z = np.zeros(N_times)\n",
    "for i,state in enumerate(basis):\n",
    "    for x1 in range(L):\n",
    "        for x2 in range(x1,L):\n",
    "            z += basis_exp[i]*state[x1]*state[x2]*np.abs(x1 - x2)\n",
    "z = 2*z/(N*(N-1))\n",
    "\n",
    "#Correlation\n",
    "site_corr = np.zeros((L-1,N_times))\n",
    "for i in range(0,L-1):\n",
    "    site_corr[i] = np.array(np.abs(result.expect[dim+i]))\n",
    "site_corr_avg = np.mean(site_corr, axis=1)\n",
    "print(site_corr_avg)"
   ]
  },
  {
   "cell_type": "code",
   "execution_count": null,
   "id": "797f7c21-1ddb-430c-8022-bf0b79c03355",
   "metadata": {},
   "outputs": [],
   "source": [
    "plt.figure()\n",
    "legend = []\n",
    "for i in range(L):\n",
    "    plt.plot(tlist, occ[i])\n",
    "    legend.append(i)\n",
    "plt.legend(legend)"
   ]
  },
  {
   "cell_type": "code",
   "execution_count": null,
   "id": "c22816e0-0c54-43a0-8a43-f58bd7b95764",
   "metadata": {},
   "outputs": [],
   "source": [
    "plt.figure()\n",
    "plt.plot(tlist,Z)"
   ]
  },
  {
   "cell_type": "code",
   "execution_count": null,
   "id": "ae82e75a-1db7-42fe-a02f-cf695c9ba059",
   "metadata": {},
   "outputs": [],
   "source": [
    "plt.figure()\n",
    "plt.plot(tlist,z)"
   ]
  },
  {
   "cell_type": "code",
   "execution_count": null,
   "id": "6e9b42e8-cd39-470b-b5e7-934fa01c155b",
   "metadata": {},
   "outputs": [],
   "source": [
    "plt.figure()\n",
    "plt.plot(np.arange(1,L),site_corr_avg, '.') "
   ]
  },
  {
   "cell_type": "code",
   "execution_count": null,
   "id": "871ef92c-c845-4484-bdd4-49b747e44a47",
   "metadata": {},
   "outputs": [],
   "source": [
    "plt.figure()\n",
    "center_current = result.expect[dim+L-1]\n",
    "plt.plot(tlist, center_current)\n",
    "\n",
    "abs_current = np.abs(center_current)\n",
    "avg_curr = np.mean(abs_current)\n",
    "print(avg_curr)"
   ]
  },
  {
   "cell_type": "code",
   "execution_count": null,
   "id": "34c08917-ad50-435c-add2-be1f095cc17f",
   "metadata": {},
   "outputs": [],
   "source": [
    "plt.figure()\n",
    "center_current_var = result.expect[dim+L]\n",
    "plt.plot(tlist, center_current_var)"
   ]
  }
 ],
 "metadata": {
  "kernelspec": {
   "display_name": "Python 3 (ipykernel)",
   "language": "python",
   "name": "python3"
  },
  "language_info": {
   "codemirror_mode": {
    "name": "ipython",
    "version": 3
   },
   "file_extension": ".py",
   "mimetype": "text/x-python",
   "name": "python",
   "nbconvert_exporter": "python",
   "pygments_lexer": "ipython3",
   "version": "3.10.12"
  }
 },
 "nbformat": 4,
 "nbformat_minor": 5
}
